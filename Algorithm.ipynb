{
 "cells": [
  {
   "cell_type": "code",
   "execution_count": 12,
   "metadata": {},
   "outputs": [
    {
     "name": "stdout",
     "output_type": "stream",
     "text": [
      "Üçgenin alanı (cm2) :  7.5\n"
     ]
    }
   ],
   "source": [
    "# Üçgenin Alanı Hesaplama - Dik bir üçgen\n",
    "\n",
    "a= float(input(\"Kenar uzunluğunu giriniz(CM) : \"))\n",
    "h= float(input(\"Yükseklik uzunluğunu giriniz(CM) :\"))\n",
    "alan= (a*h)/2\n",
    "\n",
    "print(f\"Üçgenin alanı : {alan:.2f}\")\n"
   ]
  },
  {
   "cell_type": "code",
   "execution_count": 13,
   "metadata": {},
   "outputs": [
    {
     "name": "stdout",
     "output_type": "stream",
     "text": [
      "Üçgenin alanı (cm2) :  4.242640687119285\n"
     ]
    }
   ],
   "source": [
    "# Üçgenin Alanını Hesaplama - Açılı bir üçgen\n",
    "\n",
    "import math\n",
    "a=float(input(\"Kenar uzunluğunu giriniz(CM) : \"))\n",
    "b= float(input(\"Yükseklik uzunluğunu giriniz(CM) :\"))\n",
    "aci=float(input(\"Açı denerecesini giriniz :\"))\n",
    "alan = (a*b*math.sin(math.radians(aci)))/2\n",
    "\n",
    "print(f\"Üçgenin alanı : {alan:.2f}\")"
   ]
  },
  {
   "cell_type": "code",
   "execution_count": 14,
   "metadata": {},
   "outputs": [
    {
     "name": "stdout",
     "output_type": "stream",
     "text": [
      "Hipotenüs uzunluğu :  6.4031242374328485\n"
     ]
    }
   ],
   "source": [
    "# Üçgenin Hipotenüsünü Hesaplama\n",
    "\n",
    "a= float(input(\"Birinci dik kenarı giriniz(CM) : \"))\n",
    "b= float(input(\"İkinci dik kenarı giriniz(CM) :\"))\n",
    "c=(a*a+b*b)**(1/2)\n",
    "\n",
    "print(f\"Hipotenüs uzunluğu : {c:.2f}\")\n",
    "\n"
   ]
  },
  {
   "cell_type": "code",
   "execution_count": 15,
   "metadata": {},
   "outputs": [
    {
     "name": "stdout",
     "output_type": "stream",
     "text": [
      "Üçgenin alanı : 6.93\n"
     ]
    }
   ],
   "source": [
    "# Üçgenin Alanını Hesaplama - Tüm kenarları bilinen\n",
    "a = float(input(\"Birinci kenar giriniz (CM): \"))\n",
    "b = float(input(\"İkinci kenar giriniz (CM): \"))\n",
    "c = float(input(\"Üçüncü kenar giriniz (CM): \"))\n",
    "u = (a + b + c)/2\n",
    "alan=(u*(u-a)*(u-b)*(u-c))**(1/2) \n",
    "print(f\"Üçgenin alanı : {alan:.2f}\")"
   ]
  },
  {
   "cell_type": "code",
   "execution_count": 1,
   "metadata": {},
   "outputs": [
    {
     "name": "stdout",
     "output_type": "stream",
     "text": [
      "Minimum Mesafe: 1.4142135623730951\n"
     ]
    }
   ],
   "source": [
    "import math\n",
    "\n",
    "def euclideanDistance(point1, point2):\n",
    "    return math.sqrt((point1[0] - point2[0])**2 + (point1[1] - point2[1])**2)\n",
    "\n",
    "def getPoints():\n",
    "    points = []\n",
    "    n = int(input(\"Kaç tane nokta girmek istiyorsunuz? \"))\n",
    "    for i in range(n):\n",
    "        x = float(input(f\"{i + 1}. nokta için x koordinatını girin: \"))\n",
    "        y = float(input(f\"{i + 1}. nokta için y koordinatını girin: \"))\n",
    "        points.append((x, y))\n",
    "    return points\n",
    "\n",
    "def main():                 # Ana Program\n",
    "    points = getPoints()\n",
    "\n",
    "    distances = []\n",
    "    for i in range(len(points)):\n",
    "        for j in range(i + 1, len(points)):\n",
    "            distance = euclideanDistance(points[i], points[j])\n",
    "            distances.append(distance)\n",
    "\n",
    "    if distances:\n",
    "        min_distance = min(distances)\n",
    "        print(\"Minimum Mesafe:\", min_distance)\n",
    "    else:\n",
    "        print(\"Hesaplanacak mesafe bulunamadı. Yeterli sayıda nokta girilmemiş olabilir.\")\n",
    "\n",
    "if __name__ == \"__main__\":\n",
    "    main()"
   ]
  },
  {
   "cell_type": "code",
   "execution_count": 16,
   "metadata": {},
   "outputs": [
    {
     "name": "stdout",
     "output_type": "stream",
     "text": [
      "Dörtgenin alanı (cm2): 5.66\n"
     ]
    }
   ],
   "source": [
    "# Dörtgen Alanı Hesaplama - Köşegen ve Açı Kullanarak\n",
    "import math\n",
    "\n",
    "a = float(input(\"Birinci köşegen giriniz (CM): \"))\n",
    "b = float(input(\"İkinci köşegen giriniz (CM): \"))\n",
    "aci = float(input(\"Açı derecesini giriniz: \"))\n",
    "\n",
    "alan = (a * b * math.sin(math.radians(aci))) / 2\n",
    "\n",
    "print(f\"Dörtgenin alanı (cm2): {alan:.2f}\") # Stringe değer enjekte etme.\n"
   ]
  },
  {
   "cell_type": "code",
   "execution_count": 17,
   "metadata": {},
   "outputs": [
    {
     "name": "stdout",
     "output_type": "stream",
     "text": [
      "Dairenin alanı : 201.06, Dairenin hacmi : 268.08\n"
     ]
    }
   ],
   "source": [
    "# Yarıçap İle Daire Alanı Ve Hacmi Hesaplama\n",
    "import math\n",
    "\n",
    "yaricap = float(input(\"Yarı çapı giriniz (CM): \"))\n",
    "\n",
    "alan = 4*math.pi*(yaricap**2)\n",
    "hacim = (4*math.pi*(yaricap**3))/3\n",
    "\n",
    "print(f\"Dairenin alanı : {alan:.2f}, Dairenin hacmi : {hacim:.2f}\")"
   ]
  },
  {
   "cell_type": "code",
   "execution_count": 18,
   "metadata": {},
   "outputs": [
    {
     "name": "stdout",
     "output_type": "stream",
     "text": [
      "Dairenin alanı : 6.28\n"
     ]
    }
   ],
   "source": [
    "# Daire Diliminin Alanının Hesaplanması \n",
    "import math\n",
    "\n",
    "yaricap = float(input(\"Yarı çapı giriniz (CM): \"))\n",
    "aci = float(input(\"Açı derecesini giriniz (CM): \"))\n",
    "\n",
    "alan = aci* math.pi * (yaricap**2)/360\n",
    "\n",
    "print(f\"Dairenin alanı : {alan:.2f}\")\n"
   ]
  },
  {
   "cell_type": "code",
   "execution_count": 19,
   "metadata": {},
   "outputs": [
    {
     "name": "stdout",
     "output_type": "stream",
     "text": [
      "Maddenin Sahip Olduğu Kinetik Enerji : 37.50 dir. Sahip Olduğu Potansiyel Enerji : 147.00 dir.\n"
     ]
    }
   ],
   "source": [
    "# Kinetik Ve Potansiyel Enerji Hesaplaması\n",
    "\n",
    "m = float(input(\"Maddenin Kütle Ağırlığını Gir (m): \"))\n",
    "v = float(input(\"Maddenin Hızını Gir (v): \"))\n",
    "h = float(input(\"Maddenin Yerden Yüksekliğini Gir (h): \"))\n",
    "\n",
    "ep =m*9.8*h\n",
    "ek =m*(v**2)/2\n",
    "\n",
    "print(f\"Maddenin Sahip Olduğu Kinetik Enerji : {ek:.2f} dir. Sahip Olduğu Potansiyel Enerji : {ep:.2f} dir.\")"
   ]
  },
  {
   "cell_type": "code",
   "execution_count": 1,
   "metadata": {},
   "outputs": [
    {
     "name": "stdout",
     "output_type": "stream",
     "text": [
      "Cismin Havada Kalma Süresi : 1.43 dir. Yatayda Aldığı Yol : 71.43 dir. Çarpma Hızı : 51.92\n"
     ]
    }
   ],
   "source": [
    "# Cismin Havada Kalma, Aldığı Yol, Yere Çarpma Hızını Hesaplaması\n",
    "v = float(input(\"Maddenin Hızını Gir (v): \"))\n",
    "h = float(input(\"Maddenin Yerden Yüksekliğini Gir (h): \"))\n",
    "\n",
    "t = (2*h/9.8)**(1/2)\n",
    "x = v*t\n",
    "vy = 9.8*t\n",
    "v = (v**2+vy**2)**(1/2)\n",
    "\n",
    "print(f\"Cismin Havada Kalma Süresi : {t:.2f} dir. Yatayda Aldığı Yol : {x:.2f} dir. Çarpma Hızı : {v:.2f}\")"
   ]
  },
  {
   "cell_type": "code",
   "execution_count": 3,
   "metadata": {},
   "outputs": [
    {
     "name": "stdout",
     "output_type": "stream",
     "text": [
      "Maddenin Mol Sayısı : 0.60\n"
     ]
    }
   ],
   "source": [
    "# Mol Sayısını Hesaplama - Molekül ağırlığı ve kütle ile\n",
    "\n",
    "m = float(input(\"Molekül Kütlesini Giriniz : \"))\n",
    "ma = float(input(\"Molekül Ağırlığını Giriniz : \"))\n",
    "\n",
    "mol = m/ma\n",
    "\n",
    "print(f\"Maddenin Mol Sayısı : {mol:.2f}\")"
   ]
  },
  {
   "cell_type": "code",
   "execution_count": 4,
   "metadata": {},
   "outputs": [
    {
     "name": "stdout",
     "output_type": "stream",
     "text": [
      "Maddenin Kalan Kütlesi : 0.07 dir. Yarılanma Sayısı 7.00 dir.\n"
     ]
    }
   ],
   "source": [
    "# Elementin Yarılanma Süresi Hesaplama \n",
    "\n",
    "mo = float(input(\"Başlanğıç Kütlesini Giriniz : \"))\n",
    "dt = float(input(\"Yarılanma Süresini Giriniz : \"))\n",
    "t  = float(input(\"Süreyi Giriniz : \"))\n",
    "\n",
    "n = t / dt \n",
    "m = mo/(2**n)\n",
    "\n",
    "print(f\"Maddenin Kalan Kütlesi : {m:.2f} dir. Yarılanma Sayısı {n:.2f} dir.\")"
   ]
  },
  {
   "cell_type": "code",
   "execution_count": 5,
   "metadata": {},
   "outputs": [
    {
     "name": "stdout",
     "output_type": "stream",
     "text": [
      "Akımın Voltajı : 15.00 dir.\n"
     ]
    }
   ],
   "source": [
    "# Ohm Kanunu Hesaplama\n",
    "\n",
    "r = float(input(\"İletkenin direncini giriniz : \"))\n",
    "i = float(input(\"İletkenin akımını giriniz : \"))\n",
    "\n",
    "v=i*r\n",
    "\n",
    "print(f\"Akımın Voltajı : {v:.2f} dir.\")\n"
   ]
  },
  {
   "cell_type": "code",
   "execution_count": 6,
   "metadata": {},
   "outputs": [
    {
     "name": "stdout",
     "output_type": "stream",
     "text": [
      "Sistemin Akım Değeri : 0.17 dir.\n",
      "1. Direncin Voltajı : 0.83 dir.\n",
      "2. Direncin Güc Değeri : 0.00 dir.\n"
     ]
    }
   ],
   "source": [
    "# Belirli Devrelere Harcanan Gücü Hesaplama - Akımı, 1. Direnç gerilimi, 2. Direç üzerine harcanan gücü bulma\n",
    "\n",
    "e = float(input(\"Gelirim kaynağı değerini giriniz : \"))\n",
    "\n",
    "r1 = float(input(\"Birinci direnci giriniz : \"))\n",
    "r2 = float(input(\"İkinci direnci giriniz : \"))\n",
    "r3 = float(input(\"Üçüncü direnci giriniz : \"))\n",
    "r4 = float(input(\"Dördüncü direnci giriniz : \"))\n",
    "\n",
    "i = e/(r1+r2+r3+r4)\n",
    "Vr1 = r1 * i\n",
    "Pr2 = i**(2*r2)\n",
    "\n",
    "print(f\"Sistemin Akım Değeri : {i:.2f} dir.\")\n",
    "print(f\"1. Direncin Voltajı : {Vr1:.2f} dir.\")\n",
    "print(f\"2. Direncin Güc Değeri : {Pr2:.2f} dir.\")\n",
    "\n"
   ]
  },
  {
   "cell_type": "code",
   "execution_count": 8,
   "metadata": {},
   "outputs": [
    {
     "name": "stdout",
     "output_type": "stream",
     "text": [
      "Düşürücü Tip Transformatör\n"
     ]
    }
   ],
   "source": [
    "# Transfarmatörün Giriş Kısmı Verileriyle Çıkış Tipini Hesaplama\n",
    "\n",
    "Vp = float(input(\"Primer Voltajı giriniz : \"))\n",
    "ip = float(input(\"Primer Akım giriniz : \"))\n",
    "Np = float(input(\"Primer Sarım Sayısı giriniz : \"))\n",
    "Ns = float(input(\"Seconder Sarım Sayısı giriniz : \"))\n",
    "\n",
    "Vs = Vp*Ns/Np\n",
    "Is = ip*Np/Ns\n",
    "Ps = Vs*Is\n",
    "\n",
    "if Vs > Vp:\n",
    "    print(\"Yükseltrici Tip Transformatör\")   \n",
    "else:\n",
    "    print(\"Düşürücü Tip Transformatör\")\n"
   ]
  },
  {
   "cell_type": "code",
   "execution_count": null,
   "metadata": {},
   "outputs": [],
   "source": [
    "# Tamsayının Tek Yada Çift Olduğunu Bulan Program\n",
    "\n"
   ]
  }
 ],
 "metadata": {
  "kernelspec": {
   "display_name": "Python 3",
   "language": "python",
   "name": "python3"
  },
  "language_info": {
   "codemirror_mode": {
    "name": "ipython",
    "version": 3
   },
   "file_extension": ".py",
   "mimetype": "text/x-python",
   "name": "python",
   "nbconvert_exporter": "python",
   "pygments_lexer": "ipython3",
   "version": "3.12.3"
  }
 },
 "nbformat": 4,
 "nbformat_minor": 2
}
