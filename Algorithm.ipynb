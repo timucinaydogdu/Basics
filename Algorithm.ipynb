{
 "cells": [
  {
   "cell_type": "markdown",
   "metadata": {},
   "source": [
    "*** Hi here have basic algorithm and short code blocks ***"
   ]
  },
  {
   "cell_type": "code",
   "execution_count": 5,
   "metadata": {},
   "outputs": [
    {
     "name": "stdout",
     "output_type": "stream",
     "text": [
      "Üçgenin alanı (cm2) :  7.5\n"
     ]
    }
   ],
   "source": [
    "# Üçgenin Alanı Hesaplama - Dik bir üçgen\n",
    "\n",
    "a= float(input(\"Kenar uzunluğunu giriniz(CM) : \"))\n",
    "h= float(input(\"Yükseklik uzunluğunu giriniz(CM) :\"))\n",
    "alan= (a*h)/2\n",
    "print(\"Üçgenin alanı (cm2) : \", alan)\n"
   ]
  },
  {
   "cell_type": "code",
   "execution_count": 7,
   "metadata": {},
   "outputs": [
    {
     "name": "stdout",
     "output_type": "stream",
     "text": [
      "Üçgenin alanı (cm2) :  5.303300858899106\n"
     ]
    }
   ],
   "source": [
    "# Üçgenin Alanını Hesaplama - Açılı bir üçgen\n",
    "\n",
    "import math\n",
    "a= eval(input(\"Kenar uzunluğunu giriniz(CM) : \"))\n",
    "b= eval(input(\"Yükseklik uzunluğunu giriniz(CM) :\"))\n",
    "aci= eval(input(\"Açı denerecesini giriniz :\"))\n",
    "alan = (a*b*math.sin(math.radians(aci)))/2\n",
    "print(\"Üçgenin alanı (cm2) : \", alan)"
   ]
  },
  {
   "cell_type": "code",
   "execution_count": 10,
   "metadata": {},
   "outputs": [
    {
     "name": "stdout",
     "output_type": "stream",
     "text": [
      "Hipotenüs uzunluğu :  5.0\n"
     ]
    }
   ],
   "source": [
    "# Üçgenin Hipotenüsünü Hesaplama\n",
    "\n",
    "a= eval(input(\"Birinci dik kenarı giriniz(CM) : \"))\n",
    "b= eval(input(\"İkinci dik kenarı giriniz(CM) :\"))\n",
    "c=(a*a+b*b)**(1/2)\n",
    "print(\"Hipotenüs uzunluğu : \", c)\n",
    "\n"
   ]
  },
  {
   "cell_type": "code",
   "execution_count": null,
   "metadata": {},
   "outputs": [],
   "source": []
  }
 ],
 "metadata": {
  "kernelspec": {
   "display_name": "Python 3",
   "language": "python",
   "name": "python3"
  },
  "language_info": {
   "codemirror_mode": {
    "name": "ipython",
    "version": 3
   },
   "file_extension": ".py",
   "mimetype": "text/x-python",
   "name": "python",
   "nbconvert_exporter": "python",
   "pygments_lexer": "ipython3",
   "version": "3.10.12"
  }
 },
 "nbformat": 4,
 "nbformat_minor": 2
}
