{
 "cells": [
  {
   "cell_type": "code",
   "execution_count": 12,
   "metadata": {},
   "outputs": [
    {
     "name": "stdout",
     "output_type": "stream",
     "text": [
      "Üçgenin alanı (cm2) :  7.5\n"
     ]
    }
   ],
   "source": [
    "# Üçgenin Alanı Hesaplama - Dik bir üçgen\n",
    "\n",
    "a= float(input(\"Kenar uzunluğunu giriniz(CM) : \"))\n",
    "h= float(input(\"Yükseklik uzunluğunu giriniz(CM) :\"))\n",
    "alan= (a*h)/2\n",
    "\n",
    "print(f\"Üçgenin alanı : {alan:.2f}\")\n"
   ]
  },
  {
   "cell_type": "code",
   "execution_count": 13,
   "metadata": {},
   "outputs": [
    {
     "name": "stdout",
     "output_type": "stream",
     "text": [
      "Üçgenin alanı (cm2) :  4.242640687119285\n"
     ]
    }
   ],
   "source": [
    "# Üçgenin Alanını Hesaplama - Açılı bir üçgen\n",
    "\n",
    "import math\n",
    "a=float(input(\"Kenar uzunluğunu giriniz(CM) : \"))\n",
    "b= float(input(\"Yükseklik uzunluğunu giriniz(CM) :\"))\n",
    "aci=float(input(\"Açı denerecesini giriniz :\"))\n",
    "alan = (a*b*math.sin(math.radians(aci)))/2\n",
    "\n",
    "print(f\"Üçgenin alanı : {alan:.2f}\")"
   ]
  },
  {
   "cell_type": "code",
   "execution_count": 14,
   "metadata": {},
   "outputs": [
    {
     "name": "stdout",
     "output_type": "stream",
     "text": [
      "Hipotenüs uzunluğu :  6.4031242374328485\n"
     ]
    }
   ],
   "source": [
    "# Üçgenin Hipotenüsünü Hesaplama\n",
    "\n",
    "a= float(input(\"Birinci dik kenarı giriniz(CM) : \"))\n",
    "b= float(input(\"İkinci dik kenarı giriniz(CM) :\"))\n",
    "c=(a*a+b*b)**(1/2)\n",
    "\n",
    "print(f\"Hipotenüs uzunluğu : {c:.2f}\")\n",
    "\n"
   ]
  },
  {
   "cell_type": "code",
   "execution_count": 15,
   "metadata": {},
   "outputs": [
    {
     "name": "stdout",
     "output_type": "stream",
     "text": [
      "Üçgenin alanı : 6.93\n"
     ]
    }
   ],
   "source": [
    "# Üçgenin Alanını Hesaplama - Tüm kenarları bilinen\n",
    "a = float(input(\"Birinci kenar giriniz (CM): \"))\n",
    "b = float(input(\"İkinci kenar giriniz (CM): \"))\n",
    "c = float(input(\"Üçüncü kenar giriniz (CM): \"))\n",
    "u = (a + b + c)/2\n",
    "alan=(u*(u-a)*(u-b)*(u-c))**(1/2) \n",
    "print(f\"Üçgenin alanı : {alan:.2f}\")"
   ]
  },
  {
   "cell_type": "code",
   "execution_count": 16,
   "metadata": {},
   "outputs": [
    {
     "name": "stdout",
     "output_type": "stream",
     "text": [
      "Dörtgenin alanı (cm2): 5.66\n"
     ]
    }
   ],
   "source": [
    "# Dörtgen Alanı Hesaplama - Köşegen ve Açı Kullanarak\n",
    "import math\n",
    "\n",
    "a = float(input(\"Birinci köşegen giriniz (CM): \"))\n",
    "b = float(input(\"İkinci köşegen giriniz (CM): \"))\n",
    "aci = float(input(\"Açı derecesini giriniz: \"))\n",
    "\n",
    "alan = (a * b * math.sin(math.radians(aci))) / 2\n",
    "\n",
    "print(f\"Dörtgenin alanı (cm2): {alan:.2f}\") # Stringe değer enjekte etme.\n"
   ]
  },
  {
   "cell_type": "code",
   "execution_count": 17,
   "metadata": {},
   "outputs": [
    {
     "name": "stdout",
     "output_type": "stream",
     "text": [
      "Dairenin alanı : 201.06, Dairenin hacmi : 268.08\n"
     ]
    }
   ],
   "source": [
    "# Yarıçap İle Daire Alanı Ve Hacmi Hesaplama\n",
    "import math\n",
    "\n",
    "yaricap = float(input(\"Yarı çapı giriniz (CM): \"))\n",
    "\n",
    "alan = 4*math.pi*(yaricap**2)\n",
    "hacim = (4*math.pi*(yaricap**3))/3\n",
    "\n",
    "print(f\"Dairenin alanı : {alan:.2f}, Dairenin hacmi : {hacim:.2f}\")"
   ]
  },
  {
   "cell_type": "code",
   "execution_count": 18,
   "metadata": {},
   "outputs": [
    {
     "name": "stdout",
     "output_type": "stream",
     "text": [
      "Dairenin alanı : 6.28\n"
     ]
    }
   ],
   "source": [
    "# Daire Diliminin Alanının Hesaplanması \n",
    "import math\n",
    "\n",
    "yaricap = float(input(\"Yarı çapı giriniz (CM): \"))\n",
    "aci = float(input(\"Açı derecesini giriniz (CM): \"))\n",
    "\n",
    "alan = aci* math.pi * (yaricap**2)/360\n",
    "\n",
    "print(f\"Dairenin alanı : {alan:.2f}\")\n"
   ]
  },
  {
   "cell_type": "code",
   "execution_count": 19,
   "metadata": {},
   "outputs": [
    {
     "name": "stdout",
     "output_type": "stream",
     "text": [
      "Maddenin Sahip Olduğu Kinetik Enerji : 37.50 dir. Sahip Olduğu Potansiyel Enerji : 147.00 dir.\n"
     ]
    }
   ],
   "source": [
    "# Kinetik Ve Potansiyel Enerji Hesaplaması\n",
    "\n",
    "m = float(input(\"Maddenin Kütle Ağırlığını Gir (m): \"))\n",
    "v = float(input(\"Maddenin Hızını Gir (v): \"))\n",
    "h = float(input(\"Maddenin Yerden Yüksekliğini Gir (h): \"))\n",
    "\n",
    "ep =m*9.8*h\n",
    "ek =m*(v**2)/2\n",
    "\n",
    "print(f\"Maddenin Sahip Olduğu Kinetik Enerji : {ek:.2f} dir. Sahip Olduğu Potansiyel Enerji : {ep:.2f} dir.\")"
   ]
  }
 ],
 "metadata": {
  "kernelspec": {
   "display_name": "Python 3",
   "language": "python",
   "name": "python3"
  },
  "language_info": {
   "codemirror_mode": {
    "name": "ipython",
    "version": 3
   },
   "file_extension": ".py",
   "mimetype": "text/x-python",
   "name": "python",
   "nbconvert_exporter": "python",
   "pygments_lexer": "ipython3",
   "version": "3.10.12"
  }
 },
 "nbformat": 4,
 "nbformat_minor": 2
}
